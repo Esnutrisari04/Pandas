{
 "cells": [
  {
   "cell_type": "markdown",
   "id": "448eaaac",
   "metadata": {},
   "source": [
    "## Selection"
   ]
  },
  {
   "cell_type": "markdown",
   "id": "7baa79ae",
   "metadata": {},
   "source": [
    "<table>\n",
    "    <tbody>\n",
    "        <tr>\n",
    "            <td>\n",
    "                Note\n",
    "            </td>\n",
    "        </tr>\n",
    "        <tr>\n",
    "            <td>\n",
    "                While standard Python / NumPy expressions for selecting and setting are intuitive and come in handy for interactive work, for production code, we recommend the optimized pandas data access methods, <code><u>DataFrame.at()</u></code>, <code><u>DataFrame.iat()</u></code>, <code><u>DataFrame.loc()</u></code> and <code><u>DataFrame.iloc()</u></code>.\n",
    "            </td>\n",
    "        </tr>\n",
    "    </tbody>\n",
    "</table>"
   ]
  },
  {
   "cell_type": "markdown",
   "id": "d1fa7fbc",
   "metadata": {},
   "source": [
    "### Getitem (<code>[]</code>)"
   ]
  },
  {
   "cell_type": "markdown",
   "id": "666cdc00",
   "metadata": {},
   "source": [
    "For a <u>`DataFrame`</u>, passing a single label selects a columns and yields a <u>`Series`</u> equivalent to <u>`df.A`</u>:"
   ]
  },
  {
   "cell_type": "code",
   "execution_count": null,
   "id": "83456bcb",
   "metadata": {},
   "outputs": [
    {
     "data": {
      "text/plain": [
       "2024-11-01    0.161885\n",
       "2024-11-02   -1.214767\n",
       "2024-11-03    1.277171\n",
       "2024-11-04   -0.122850\n",
       "2024-11-05    0.254829\n",
       "2024-11-06   -0.750218\n",
       "2024-11-07    1.404906\n",
       "2024-11-08   -1.322813\n",
       "2024-11-09    0.716064\n",
       "2024-11-10    0.732563\n",
       "2024-11-11    1.726718\n",
       "2024-11-12   -1.957294\n",
       "2024-11-13    2.123373\n",
       "2024-11-14   -0.187590\n",
       "2024-11-15   -0.196765\n",
       "2024-11-16    0.237916\n",
       "2024-11-17   -1.727063\n",
       "2024-11-18    0.127168\n",
       "2024-11-19    0.260393\n",
       "2024-11-20    1.021713\n",
       "2024-11-21   -1.150564\n",
       "2024-11-22   -0.336322\n",
       "2024-11-23   -1.532701\n",
       "2024-11-24    0.558858\n",
       "2024-11-25    0.689247\n",
       "2024-11-26    1.384677\n",
       "2024-11-27   -0.742810\n",
       "2024-11-28   -0.620223\n",
       "2024-11-29   -0.230046\n",
       "Freq: D, Name: A, dtype: float64"
      ]
     },
     "metadata": {},
     "output_type": "display_data"
    }
   ],
   "source": [
    "df[\"A\"]"
   ]
  },
  {
   "cell_type": "markdown",
   "id": "65601c4d",
   "metadata": {},
   "source": [
    "For a <u>`DataFrame`</u>, passing a slice `:` selects matching rows:"
   ]
  },
  {
   "cell_type": "code",
   "execution_count": null,
   "id": "db949984",
   "metadata": {},
   "outputs": [
    {
     "data": {
      "text/html": [
       "<div>\n",
       "<style scoped>\n",
       "    .dataframe tbody tr th:only-of-type {\n",
       "        vertical-align: middle;\n",
       "    }\n",
       "\n",
       "    .dataframe tbody tr th {\n",
       "        vertical-align: top;\n",
       "    }\n",
       "\n",
       "    .dataframe thead th {\n",
       "        text-align: right;\n",
       "    }\n",
       "</style>\n",
       "<table border=\"1\" class=\"dataframe\">\n",
       "  <thead>\n",
       "    <tr style=\"text-align: right;\">\n",
       "      <th></th>\n",
       "      <th>A</th>\n",
       "      <th>B</th>\n",
       "      <th>C</th>\n",
       "      <th>D</th>\n",
       "    </tr>\n",
       "  </thead>\n",
       "  <tbody>\n",
       "    <tr>\n",
       "      <th>2024-11-01</th>\n",
       "      <td>0.161885</td>\n",
       "      <td>0.438335</td>\n",
       "      <td>-0.986986</td>\n",
       "      <td>0.317472</td>\n",
       "    </tr>\n",
       "    <tr>\n",
       "      <th>2024-11-02</th>\n",
       "      <td>-1.214767</td>\n",
       "      <td>-0.469118</td>\n",
       "      <td>1.206513</td>\n",
       "      <td>-0.022381</td>\n",
       "    </tr>\n",
       "    <tr>\n",
       "      <th>2024-11-03</th>\n",
       "      <td>1.277171</td>\n",
       "      <td>-1.193116</td>\n",
       "      <td>-0.154847</td>\n",
       "      <td>0.441461</td>\n",
       "    </tr>\n",
       "  </tbody>\n",
       "</table>\n",
       "</div>"
      ],
      "text/plain": [
       "                   A         B         C         D\n",
       "2024-11-01  0.161885  0.438335 -0.986986  0.317472\n",
       "2024-11-02 -1.214767 -0.469118  1.206513 -0.022381\n",
       "2024-11-03  1.277171 -1.193116 -0.154847  0.441461"
      ]
     },
     "metadata": {},
     "output_type": "display_data"
    }
   ],
   "source": [
    "df[0:3]"
   ]
  },
  {
   "cell_type": "markdown",
   "id": "fa5724f6",
   "metadata": {},
   "source": [
    "### Selection by label"
   ]
  },
  {
   "cell_type": "markdown",
   "id": "a38dcfd3",
   "metadata": {},
   "source": [
    "See more in <u>Selection by Label</u> using <u>`DataFrame.loc()`</u> or <u>`DataFrame.at()`</u>."
   ]
  },
  {
   "cell_type": "markdown",
   "id": "8fa784fc",
   "metadata": {},
   "source": [
    "Selecting a row matching a label:"
   ]
  },
  {
   "cell_type": "code",
   "execution_count": null,
   "id": "dcd3079b",
   "metadata": {},
   "outputs": [
    {
     "data": {
      "text/plain": [
       "A    0.161885\n",
       "B    0.438335\n",
       "C   -0.986986\n",
       "D    0.317472\n",
       "Name: 2024-11-01 00:00:00, dtype: float64"
      ]
     },
     "metadata": {},
     "output_type": "display_data"
    }
   ],
   "source": [
    "df.loc[dates[0]]"
   ]
  },
  {
   "cell_type": "markdown",
   "id": "8a6bc408",
   "metadata": {},
   "source": [
    "Selecting all rows (`:`) with a select column labels:"
   ]
  },
  {
   "cell_type": "code",
   "execution_count": null,
   "id": "81ad53c7",
   "metadata": {},
   "outputs": [
    {
     "data": {
      "text/html": [
       "<div>\n",
       "<style scoped>\n",
       "    .dataframe tbody tr th:only-of-type {\n",
       "        vertical-align: middle;\n",
       "    }\n",
       "\n",
       "    .dataframe tbody tr th {\n",
       "        vertical-align: top;\n",
       "    }\n",
       "\n",
       "    .dataframe thead th {\n",
       "        text-align: right;\n",
       "    }\n",
       "</style>\n",
       "<table border=\"1\" class=\"dataframe\">\n",
       "  <thead>\n",
       "    <tr style=\"text-align: right;\">\n",
       "      <th></th>\n",
       "      <th>A</th>\n",
       "      <th>B</th>\n",
       "    </tr>\n",
       "  </thead>\n",
       "  <tbody>\n",
       "    <tr>\n",
       "      <th>2024-11-01</th>\n",
       "      <td>0.161885</td>\n",
       "      <td>0.438335</td>\n",
       "    </tr>\n",
       "    <tr>\n",
       "      <th>2024-11-02</th>\n",
       "      <td>-1.214767</td>\n",
       "      <td>-0.469118</td>\n",
       "    </tr>\n",
       "    <tr>\n",
       "      <th>2024-11-03</th>\n",
       "      <td>1.277171</td>\n",
       "      <td>-1.193116</td>\n",
       "    </tr>\n",
       "    <tr>\n",
       "      <th>2024-11-04</th>\n",
       "      <td>-0.122850</td>\n",
       "      <td>0.726176</td>\n",
       "    </tr>\n",
       "    <tr>\n",
       "      <th>2024-11-05</th>\n",
       "      <td>0.254829</td>\n",
       "      <td>-0.682948</td>\n",
       "    </tr>\n",
       "    <tr>\n",
       "      <th>2024-11-06</th>\n",
       "      <td>-0.750218</td>\n",
       "      <td>-0.169299</td>\n",
       "    </tr>\n",
       "    <tr>\n",
       "      <th>2024-11-07</th>\n",
       "      <td>1.404906</td>\n",
       "      <td>0.649107</td>\n",
       "    </tr>\n",
       "    <tr>\n",
       "      <th>2024-11-08</th>\n",
       "      <td>-1.322813</td>\n",
       "      <td>-1.168692</td>\n",
       "    </tr>\n",
       "    <tr>\n",
       "      <th>2024-11-09</th>\n",
       "      <td>0.716064</td>\n",
       "      <td>-0.108465</td>\n",
       "    </tr>\n",
       "    <tr>\n",
       "      <th>2024-11-10</th>\n",
       "      <td>0.732563</td>\n",
       "      <td>-0.995801</td>\n",
       "    </tr>\n",
       "    <tr>\n",
       "      <th>2024-11-11</th>\n",
       "      <td>1.726718</td>\n",
       "      <td>0.566326</td>\n",
       "    </tr>\n",
       "    <tr>\n",
       "      <th>2024-11-12</th>\n",
       "      <td>-1.957294</td>\n",
       "      <td>1.628759</td>\n",
       "    </tr>\n",
       "    <tr>\n",
       "      <th>2024-11-13</th>\n",
       "      <td>2.123373</td>\n",
       "      <td>-0.063421</td>\n",
       "    </tr>\n",
       "    <tr>\n",
       "      <th>2024-11-14</th>\n",
       "      <td>-0.187590</td>\n",
       "      <td>1.235832</td>\n",
       "    </tr>\n",
       "    <tr>\n",
       "      <th>2024-11-15</th>\n",
       "      <td>-0.196765</td>\n",
       "      <td>-0.095129</td>\n",
       "    </tr>\n",
       "    <tr>\n",
       "      <th>2024-11-16</th>\n",
       "      <td>0.237916</td>\n",
       "      <td>0.116624</td>\n",
       "    </tr>\n",
       "    <tr>\n",
       "      <th>2024-11-17</th>\n",
       "      <td>-1.727063</td>\n",
       "      <td>-1.509896</td>\n",
       "    </tr>\n",
       "    <tr>\n",
       "      <th>2024-11-18</th>\n",
       "      <td>0.127168</td>\n",
       "      <td>-0.313985</td>\n",
       "    </tr>\n",
       "    <tr>\n",
       "      <th>2024-11-19</th>\n",
       "      <td>0.260393</td>\n",
       "      <td>-0.665612</td>\n",
       "    </tr>\n",
       "    <tr>\n",
       "      <th>2024-11-20</th>\n",
       "      <td>1.021713</td>\n",
       "      <td>-1.436212</td>\n",
       "    </tr>\n",
       "    <tr>\n",
       "      <th>2024-11-21</th>\n",
       "      <td>-1.150564</td>\n",
       "      <td>-0.676135</td>\n",
       "    </tr>\n",
       "    <tr>\n",
       "      <th>2024-11-22</th>\n",
       "      <td>-0.336322</td>\n",
       "      <td>0.759999</td>\n",
       "    </tr>\n",
       "    <tr>\n",
       "      <th>2024-11-23</th>\n",
       "      <td>-1.532701</td>\n",
       "      <td>-0.654647</td>\n",
       "    </tr>\n",
       "    <tr>\n",
       "      <th>2024-11-24</th>\n",
       "      <td>0.558858</td>\n",
       "      <td>-1.599667</td>\n",
       "    </tr>\n",
       "    <tr>\n",
       "      <th>2024-11-25</th>\n",
       "      <td>0.689247</td>\n",
       "      <td>0.218797</td>\n",
       "    </tr>\n",
       "    <tr>\n",
       "      <th>2024-11-26</th>\n",
       "      <td>1.384677</td>\n",
       "      <td>-1.015229</td>\n",
       "    </tr>\n",
       "    <tr>\n",
       "      <th>2024-11-27</th>\n",
       "      <td>-0.742810</td>\n",
       "      <td>0.263779</td>\n",
       "    </tr>\n",
       "    <tr>\n",
       "      <th>2024-11-28</th>\n",
       "      <td>-0.620223</td>\n",
       "      <td>1.308058</td>\n",
       "    </tr>\n",
       "    <tr>\n",
       "      <th>2024-11-29</th>\n",
       "      <td>-0.230046</td>\n",
       "      <td>-1.538786</td>\n",
       "    </tr>\n",
       "  </tbody>\n",
       "</table>\n",
       "</div>"
      ],
      "text/plain": [
       "                   A         B\n",
       "2024-11-01  0.161885  0.438335\n",
       "2024-11-02 -1.214767 -0.469118\n",
       "2024-11-03  1.277171 -1.193116\n",
       "2024-11-04 -0.122850  0.726176\n",
       "2024-11-05  0.254829 -0.682948\n",
       "2024-11-06 -0.750218 -0.169299\n",
       "2024-11-07  1.404906  0.649107\n",
       "2024-11-08 -1.322813 -1.168692\n",
       "2024-11-09  0.716064 -0.108465\n",
       "2024-11-10  0.732563 -0.995801\n",
       "2024-11-11  1.726718  0.566326\n",
       "2024-11-12 -1.957294  1.628759\n",
       "2024-11-13  2.123373 -0.063421\n",
       "2024-11-14 -0.187590  1.235832\n",
       "2024-11-15 -0.196765 -0.095129\n",
       "2024-11-16  0.237916  0.116624\n",
       "2024-11-17 -1.727063 -1.509896\n",
       "2024-11-18  0.127168 -0.313985\n",
       "2024-11-19  0.260393 -0.665612\n",
       "2024-11-20  1.021713 -1.436212\n",
       "2024-11-21 -1.150564 -0.676135\n",
       "2024-11-22 -0.336322  0.759999\n",
       "2024-11-23 -1.532701 -0.654647\n",
       "2024-11-24  0.558858 -1.599667\n",
       "2024-11-25  0.689247  0.218797\n",
       "2024-11-26  1.384677 -1.015229\n",
       "2024-11-27 -0.742810  0.263779\n",
       "2024-11-28 -0.620223  1.308058\n",
       "2024-11-29 -0.230046 -1.538786"
      ]
     },
     "metadata": {},
     "output_type": "display_data"
    }
   ],
   "source": [
    "df.loc[:,[\"A\", \"B\"]]"
   ]
  },
  {
   "cell_type": "markdown",
   "id": "25993523",
   "metadata": {},
   "source": [
    "For label slicing, both endpoints are included:"
   ]
  },
  {
   "cell_type": "code",
   "execution_count": null,
   "id": "81c5c2c8",
   "metadata": {},
   "outputs": [
    {
     "data": {
      "text/html": [
       "<div>\n",
       "<style scoped>\n",
       "    .dataframe tbody tr th:only-of-type {\n",
       "        vertical-align: middle;\n",
       "    }\n",
       "\n",
       "    .dataframe tbody tr th {\n",
       "        vertical-align: top;\n",
       "    }\n",
       "\n",
       "    .dataframe thead th {\n",
       "        text-align: right;\n",
       "    }\n",
       "</style>\n",
       "<table border=\"1\" class=\"dataframe\">\n",
       "  <thead>\n",
       "    <tr style=\"text-align: right;\">\n",
       "      <th></th>\n",
       "      <th>A</th>\n",
       "      <th>B</th>\n",
       "    </tr>\n",
       "  </thead>\n",
       "  <tbody>\n",
       "    <tr>\n",
       "      <th>2024-11-10</th>\n",
       "      <td>0.732563</td>\n",
       "      <td>-0.995801</td>\n",
       "    </tr>\n",
       "    <tr>\n",
       "      <th>2024-11-11</th>\n",
       "      <td>1.726718</td>\n",
       "      <td>0.566326</td>\n",
       "    </tr>\n",
       "    <tr>\n",
       "      <th>2024-11-12</th>\n",
       "      <td>-1.957294</td>\n",
       "      <td>1.628759</td>\n",
       "    </tr>\n",
       "    <tr>\n",
       "      <th>2024-11-13</th>\n",
       "      <td>2.123373</td>\n",
       "      <td>-0.063421</td>\n",
       "    </tr>\n",
       "    <tr>\n",
       "      <th>2024-11-14</th>\n",
       "      <td>-0.187590</td>\n",
       "      <td>1.235832</td>\n",
       "    </tr>\n",
       "    <tr>\n",
       "      <th>2024-11-15</th>\n",
       "      <td>-0.196765</td>\n",
       "      <td>-0.095129</td>\n",
       "    </tr>\n",
       "    <tr>\n",
       "      <th>2024-11-16</th>\n",
       "      <td>0.237916</td>\n",
       "      <td>0.116624</td>\n",
       "    </tr>\n",
       "    <tr>\n",
       "      <th>2024-11-17</th>\n",
       "      <td>-1.727063</td>\n",
       "      <td>-1.509896</td>\n",
       "    </tr>\n",
       "    <tr>\n",
       "      <th>2024-11-18</th>\n",
       "      <td>0.127168</td>\n",
       "      <td>-0.313985</td>\n",
       "    </tr>\n",
       "    <tr>\n",
       "      <th>2024-11-19</th>\n",
       "      <td>0.260393</td>\n",
       "      <td>-0.665612</td>\n",
       "    </tr>\n",
       "    <tr>\n",
       "      <th>2024-11-20</th>\n",
       "      <td>1.021713</td>\n",
       "      <td>-1.436212</td>\n",
       "    </tr>\n",
       "    <tr>\n",
       "      <th>2024-11-21</th>\n",
       "      <td>-1.150564</td>\n",
       "      <td>-0.676135</td>\n",
       "    </tr>\n",
       "  </tbody>\n",
       "</table>\n",
       "</div>"
      ],
      "text/plain": [
       "                   A         B\n",
       "2024-11-10  0.732563 -0.995801\n",
       "2024-11-11  1.726718  0.566326\n",
       "2024-11-12 -1.957294  1.628759\n",
       "2024-11-13  2.123373 -0.063421\n",
       "2024-11-14 -0.187590  1.235832\n",
       "2024-11-15 -0.196765 -0.095129\n",
       "2024-11-16  0.237916  0.116624\n",
       "2024-11-17 -1.727063 -1.509896\n",
       "2024-11-18  0.127168 -0.313985\n",
       "2024-11-19  0.260393 -0.665612\n",
       "2024-11-20  1.021713 -1.436212\n",
       "2024-11-21 -1.150564 -0.676135"
      ]
     },
     "metadata": {},
     "output_type": "display_data"
    }
   ],
   "source": [
    "df.loc[\"20241110\":\"20241121\",[\"A\", \"B\"]]"
   ]
  },
  {
   "cell_type": "markdown",
   "id": "15148307",
   "metadata": {},
   "source": [
    "Selecting a single row and column label returns a scalar:"
   ]
  },
  {
   "cell_type": "code",
   "execution_count": null,
   "id": "95d72f23",
   "metadata": {},
   "outputs": [
    {
     "data": {
      "text/plain": [
       "np.float64(0.161885333858113)"
      ]
     },
     "metadata": {},
     "output_type": "display_data"
    }
   ],
   "source": [
    "df.loc[dates[0], \"A\"]"
   ]
  },
  {
   "cell_type": "markdown",
   "id": "ac73136f",
   "metadata": {},
   "source": [
    "For getting fast access to a scalar (equivalent to the prior method)"
   ]
  },
  {
   "cell_type": "code",
   "execution_count": null,
   "id": "720b392b",
   "metadata": {},
   "outputs": [
    {
     "data": {
      "text/plain": [
       "np.float64(0.161885333858113)"
      ]
     },
     "metadata": {},
     "output_type": "display_data"
    }
   ],
   "source": [
    "df.at[dates[0], \"A\"]"
   ]
  },
  {
   "cell_type": "markdown",
   "id": "f7cfb940",
   "metadata": {},
   "source": [
    "### Selection by Position"
   ]
  },
  {
   "cell_type": "markdown",
   "id": "19e3a95a",
   "metadata": {},
   "source": [
    "See more in <u>Selection by Position</u> using <u>`DataFrame.iloc()`</u> or <u>`DataFrame.iat()`</u>.\n",
    "\n",
    "Select via the position of the passed integers"
   ]
  },
  {
   "cell_type": "code",
   "execution_count": null,
   "id": "432fdc4d",
   "metadata": {},
   "outputs": [
    {
     "data": {
      "text/plain": [
       "A   -0.122850\n",
       "B    0.726176\n",
       "C   -0.562973\n",
       "D    0.747119\n",
       "Name: 2024-11-04 00:00:00, dtype: float64"
      ]
     },
     "metadata": {},
     "output_type": "display_data"
    }
   ],
   "source": [
    "df.iloc[3]"
   ]
  },
  {
   "cell_type": "markdown",
   "id": "d97b1a1e",
   "metadata": {},
   "source": [
    "integer slices acts similar to Numpy/Python"
   ]
  },
  {
   "cell_type": "code",
   "execution_count": null,
   "id": "6798b9a5",
   "metadata": {},
   "outputs": [
    {
     "data": {
      "text/html": [
       "<div>\n",
       "<style scoped>\n",
       "    .dataframe tbody tr th:only-of-type {\n",
       "        vertical-align: middle;\n",
       "    }\n",
       "\n",
       "    .dataframe tbody tr th {\n",
       "        vertical-align: top;\n",
       "    }\n",
       "\n",
       "    .dataframe thead th {\n",
       "        text-align: right;\n",
       "    }\n",
       "</style>\n",
       "<table border=\"1\" class=\"dataframe\">\n",
       "  <thead>\n",
       "    <tr style=\"text-align: right;\">\n",
       "      <th></th>\n",
       "      <th>A</th>\n",
       "      <th>B</th>\n",
       "    </tr>\n",
       "  </thead>\n",
       "  <tbody>\n",
       "    <tr>\n",
       "      <th>2024-11-04</th>\n",
       "      <td>-0.122850</td>\n",
       "      <td>0.726176</td>\n",
       "    </tr>\n",
       "    <tr>\n",
       "      <th>2024-11-05</th>\n",
       "      <td>0.254829</td>\n",
       "      <td>-0.682948</td>\n",
       "    </tr>\n",
       "  </tbody>\n",
       "</table>\n",
       "</div>"
      ],
      "text/plain": [
       "                   A         B\n",
       "2024-11-04 -0.122850  0.726176\n",
       "2024-11-05  0.254829 -0.682948"
      ]
     },
     "metadata": {},
     "output_type": "display_data"
    }
   ],
   "source": [
    "df.iloc[3:5, 0:2]"
   ]
  },
  {
   "cell_type": "markdown",
   "id": "fe2ae343",
   "metadata": {},
   "source": [
    "Lists of integer position locations:"
   ]
  },
  {
   "cell_type": "code",
   "execution_count": null,
   "id": "25d9b054",
   "metadata": {},
   "outputs": [
    {
     "data": {
      "text/html": [
       "<div>\n",
       "<style scoped>\n",
       "    .dataframe tbody tr th:only-of-type {\n",
       "        vertical-align: middle;\n",
       "    }\n",
       "\n",
       "    .dataframe tbody tr th {\n",
       "        vertical-align: top;\n",
       "    }\n",
       "\n",
       "    .dataframe thead th {\n",
       "        text-align: right;\n",
       "    }\n",
       "</style>\n",
       "<table border=\"1\" class=\"dataframe\">\n",
       "  <thead>\n",
       "    <tr style=\"text-align: right;\">\n",
       "      <th></th>\n",
       "      <th>A</th>\n",
       "      <th>C</th>\n",
       "    </tr>\n",
       "  </thead>\n",
       "  <tbody>\n",
       "    <tr>\n",
       "      <th>2024-11-02</th>\n",
       "      <td>-1.214767</td>\n",
       "      <td>1.206513</td>\n",
       "    </tr>\n",
       "    <tr>\n",
       "      <th>2024-11-03</th>\n",
       "      <td>1.277171</td>\n",
       "      <td>-0.154847</td>\n",
       "    </tr>\n",
       "    <tr>\n",
       "      <th>2024-11-05</th>\n",
       "      <td>0.254829</td>\n",
       "      <td>-0.711257</td>\n",
       "    </tr>\n",
       "  </tbody>\n",
       "</table>\n",
       "</div>"
      ],
      "text/plain": [
       "                   A         C\n",
       "2024-11-02 -1.214767  1.206513\n",
       "2024-11-03  1.277171 -0.154847\n",
       "2024-11-05  0.254829 -0.711257"
      ]
     },
     "metadata": {},
     "output_type": "display_data"
    }
   ],
   "source": [
    "df.iloc[[1, 2, 4], [0, 2]]"
   ]
  },
  {
   "cell_type": "markdown",
   "id": "5353c812",
   "metadata": {},
   "source": [
    "For slicing rows explicitly:"
   ]
  },
  {
   "cell_type": "code",
   "execution_count": null,
   "id": "65762f30",
   "metadata": {},
   "outputs": [
    {
     "data": {
      "text/html": [
       "<div>\n",
       "<style scoped>\n",
       "    .dataframe tbody tr th:only-of-type {\n",
       "        vertical-align: middle;\n",
       "    }\n",
       "\n",
       "    .dataframe tbody tr th {\n",
       "        vertical-align: top;\n",
       "    }\n",
       "\n",
       "    .dataframe thead th {\n",
       "        text-align: right;\n",
       "    }\n",
       "</style>\n",
       "<table border=\"1\" class=\"dataframe\">\n",
       "  <thead>\n",
       "    <tr style=\"text-align: right;\">\n",
       "      <th></th>\n",
       "      <th>A</th>\n",
       "      <th>B</th>\n",
       "      <th>C</th>\n",
       "      <th>D</th>\n",
       "    </tr>\n",
       "  </thead>\n",
       "  <tbody>\n",
       "    <tr>\n",
       "      <th>2024-11-02</th>\n",
       "      <td>-1.214767</td>\n",
       "      <td>-0.469118</td>\n",
       "      <td>1.206513</td>\n",
       "      <td>-0.022381</td>\n",
       "    </tr>\n",
       "    <tr>\n",
       "      <th>2024-11-03</th>\n",
       "      <td>1.277171</td>\n",
       "      <td>-1.193116</td>\n",
       "      <td>-0.154847</td>\n",
       "      <td>0.441461</td>\n",
       "    </tr>\n",
       "  </tbody>\n",
       "</table>\n",
       "</div>"
      ],
      "text/plain": [
       "                   A         B         C         D\n",
       "2024-11-02 -1.214767 -0.469118  1.206513 -0.022381\n",
       "2024-11-03  1.277171 -1.193116 -0.154847  0.441461"
      ]
     },
     "metadata": {},
     "output_type": "display_data"
    }
   ],
   "source": [
    "df.iloc[1:3, :]"
   ]
  },
  {
   "cell_type": "markdown",
   "id": "865e4e42",
   "metadata": {},
   "source": [
    "For slicing columns explicitly:"
   ]
  },
  {
   "cell_type": "code",
   "execution_count": null,
   "id": "3c81447a",
   "metadata": {},
   "outputs": [
    {
     "data": {
      "text/html": [
       "<div>\n",
       "<style scoped>\n",
       "    .dataframe tbody tr th:only-of-type {\n",
       "        vertical-align: middle;\n",
       "    }\n",
       "\n",
       "    .dataframe tbody tr th {\n",
       "        vertical-align: top;\n",
       "    }\n",
       "\n",
       "    .dataframe thead th {\n",
       "        text-align: right;\n",
       "    }\n",
       "</style>\n",
       "<table border=\"1\" class=\"dataframe\">\n",
       "  <thead>\n",
       "    <tr style=\"text-align: right;\">\n",
       "      <th></th>\n",
       "      <th>B</th>\n",
       "      <th>C</th>\n",
       "    </tr>\n",
       "  </thead>\n",
       "  <tbody>\n",
       "    <tr>\n",
       "      <th>2024-11-01</th>\n",
       "      <td>0.438335</td>\n",
       "      <td>-0.986986</td>\n",
       "    </tr>\n",
       "    <tr>\n",
       "      <th>2024-11-02</th>\n",
       "      <td>-0.469118</td>\n",
       "      <td>1.206513</td>\n",
       "    </tr>\n",
       "    <tr>\n",
       "      <th>2024-11-03</th>\n",
       "      <td>-1.193116</td>\n",
       "      <td>-0.154847</td>\n",
       "    </tr>\n",
       "    <tr>\n",
       "      <th>2024-11-04</th>\n",
       "      <td>0.726176</td>\n",
       "      <td>-0.562973</td>\n",
       "    </tr>\n",
       "    <tr>\n",
       "      <th>2024-11-05</th>\n",
       "      <td>-0.682948</td>\n",
       "      <td>-0.711257</td>\n",
       "    </tr>\n",
       "    <tr>\n",
       "      <th>2024-11-06</th>\n",
       "      <td>-0.169299</td>\n",
       "      <td>-1.583037</td>\n",
       "    </tr>\n",
       "    <tr>\n",
       "      <th>2024-11-07</th>\n",
       "      <td>0.649107</td>\n",
       "      <td>-0.674996</td>\n",
       "    </tr>\n",
       "    <tr>\n",
       "      <th>2024-11-08</th>\n",
       "      <td>-1.168692</td>\n",
       "      <td>-0.564075</td>\n",
       "    </tr>\n",
       "    <tr>\n",
       "      <th>2024-11-09</th>\n",
       "      <td>-0.108465</td>\n",
       "      <td>-0.555911</td>\n",
       "    </tr>\n",
       "    <tr>\n",
       "      <th>2024-11-10</th>\n",
       "      <td>-0.995801</td>\n",
       "      <td>-0.910501</td>\n",
       "    </tr>\n",
       "    <tr>\n",
       "      <th>2024-11-11</th>\n",
       "      <td>0.566326</td>\n",
       "      <td>-0.146311</td>\n",
       "    </tr>\n",
       "    <tr>\n",
       "      <th>2024-11-12</th>\n",
       "      <td>1.628759</td>\n",
       "      <td>-1.513014</td>\n",
       "    </tr>\n",
       "    <tr>\n",
       "      <th>2024-11-13</th>\n",
       "      <td>-0.063421</td>\n",
       "      <td>-0.698364</td>\n",
       "    </tr>\n",
       "    <tr>\n",
       "      <th>2024-11-14</th>\n",
       "      <td>1.235832</td>\n",
       "      <td>-0.166551</td>\n",
       "    </tr>\n",
       "    <tr>\n",
       "      <th>2024-11-15</th>\n",
       "      <td>-0.095129</td>\n",
       "      <td>1.431128</td>\n",
       "    </tr>\n",
       "    <tr>\n",
       "      <th>2024-11-16</th>\n",
       "      <td>0.116624</td>\n",
       "      <td>2.248375</td>\n",
       "    </tr>\n",
       "    <tr>\n",
       "      <th>2024-11-17</th>\n",
       "      <td>-1.509896</td>\n",
       "      <td>0.213517</td>\n",
       "    </tr>\n",
       "    <tr>\n",
       "      <th>2024-11-18</th>\n",
       "      <td>-0.313985</td>\n",
       "      <td>-0.554889</td>\n",
       "    </tr>\n",
       "    <tr>\n",
       "      <th>2024-11-19</th>\n",
       "      <td>-0.665612</td>\n",
       "      <td>-0.065311</td>\n",
       "    </tr>\n",
       "    <tr>\n",
       "      <th>2024-11-20</th>\n",
       "      <td>-1.436212</td>\n",
       "      <td>0.784683</td>\n",
       "    </tr>\n",
       "    <tr>\n",
       "      <th>2024-11-21</th>\n",
       "      <td>-0.676135</td>\n",
       "      <td>-1.022757</td>\n",
       "    </tr>\n",
       "    <tr>\n",
       "      <th>2024-11-22</th>\n",
       "      <td>0.759999</td>\n",
       "      <td>0.151097</td>\n",
       "    </tr>\n",
       "    <tr>\n",
       "      <th>2024-11-23</th>\n",
       "      <td>-0.654647</td>\n",
       "      <td>-0.583602</td>\n",
       "    </tr>\n",
       "    <tr>\n",
       "      <th>2024-11-24</th>\n",
       "      <td>-1.599667</td>\n",
       "      <td>-1.282399</td>\n",
       "    </tr>\n",
       "    <tr>\n",
       "      <th>2024-11-25</th>\n",
       "      <td>0.218797</td>\n",
       "      <td>-0.264992</td>\n",
       "    </tr>\n",
       "    <tr>\n",
       "      <th>2024-11-26</th>\n",
       "      <td>-1.015229</td>\n",
       "      <td>-1.152469</td>\n",
       "    </tr>\n",
       "    <tr>\n",
       "      <th>2024-11-27</th>\n",
       "      <td>0.263779</td>\n",
       "      <td>-0.193731</td>\n",
       "    </tr>\n",
       "    <tr>\n",
       "      <th>2024-11-28</th>\n",
       "      <td>1.308058</td>\n",
       "      <td>-1.024844</td>\n",
       "    </tr>\n",
       "    <tr>\n",
       "      <th>2024-11-29</th>\n",
       "      <td>-1.538786</td>\n",
       "      <td>-0.574171</td>\n",
       "    </tr>\n",
       "  </tbody>\n",
       "</table>\n",
       "</div>"
      ],
      "text/plain": [
       "                   B         C\n",
       "2024-11-01  0.438335 -0.986986\n",
       "2024-11-02 -0.469118  1.206513\n",
       "2024-11-03 -1.193116 -0.154847\n",
       "2024-11-04  0.726176 -0.562973\n",
       "2024-11-05 -0.682948 -0.711257\n",
       "2024-11-06 -0.169299 -1.583037\n",
       "2024-11-07  0.649107 -0.674996\n",
       "2024-11-08 -1.168692 -0.564075\n",
       "2024-11-09 -0.108465 -0.555911\n",
       "2024-11-10 -0.995801 -0.910501\n",
       "2024-11-11  0.566326 -0.146311\n",
       "2024-11-12  1.628759 -1.513014\n",
       "2024-11-13 -0.063421 -0.698364\n",
       "2024-11-14  1.235832 -0.166551\n",
       "2024-11-15 -0.095129  1.431128\n",
       "2024-11-16  0.116624  2.248375\n",
       "2024-11-17 -1.509896  0.213517\n",
       "2024-11-18 -0.313985 -0.554889\n",
       "2024-11-19 -0.665612 -0.065311\n",
       "2024-11-20 -1.436212  0.784683\n",
       "2024-11-21 -0.676135 -1.022757\n",
       "2024-11-22  0.759999  0.151097\n",
       "2024-11-23 -0.654647 -0.583602\n",
       "2024-11-24 -1.599667 -1.282399\n",
       "2024-11-25  0.218797 -0.264992\n",
       "2024-11-26 -1.015229 -1.152469\n",
       "2024-11-27  0.263779 -0.193731\n",
       "2024-11-28  1.308058 -1.024844\n",
       "2024-11-29 -1.538786 -0.574171"
      ]
     },
     "metadata": {},
     "output_type": "display_data"
    }
   ],
   "source": [
    "df.iloc[:, 1:3]"
   ]
  },
  {
   "cell_type": "markdown",
   "id": "c22765c1",
   "metadata": {},
   "source": [
    "For getting a value explicitly:"
   ]
  },
  {
   "cell_type": "code",
   "execution_count": null,
   "id": "f30cb2f2",
   "metadata": {},
   "outputs": [
    {
     "data": {
      "text/plain": [
       "np.float64(-0.4691181592538986)"
      ]
     },
     "metadata": {},
     "output_type": "display_data"
    }
   ],
   "source": [
    "df.iloc[1, 1]"
   ]
  },
  {
   "cell_type": "markdown",
   "id": "038e8c52",
   "metadata": {},
   "source": [
    "For getting dast access to a scalar (equivalent to the prior method):"
   ]
  },
  {
   "cell_type": "code",
   "execution_count": null,
   "id": "2b1df56a",
   "metadata": {},
   "outputs": [
    {
     "data": {
      "text/plain": [
       "np.float64(-0.4691181592538986)"
      ]
     },
     "metadata": {},
     "output_type": "display_data"
    }
   ],
   "source": [
    "df.iat[1, 1]"
   ]
  },
  {
   "cell_type": "markdown",
   "id": "50ee9233",
   "metadata": {},
   "source": [
    "<table>\n",
    "</table>"
   ]
  }
 ],
 "metadata": {
  "language_info": {
   "name": "python"
  }
 },
 "nbformat": 4,
 "nbformat_minor": 5
}
