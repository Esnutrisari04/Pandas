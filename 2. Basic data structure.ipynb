{
 "cells": [
  {
   "cell_type": "markdown",
   "id": "f9468401",
   "metadata": {},
   "source": [
    "## Basic data structure in pandas"
   ]
  },
  {
   "cell_type": "markdown",
   "id": "1f156ea9",
   "metadata": {},
   "source": [
    "Pandas provides two types of classes for handling data:\n",
    "\n",
    "1. <u>`Series`</u>: __a one-dimensional labeled array holding data of any type__\n",
    "such as integers, strings, Python objects etc.\n",
    "\n",
    "2. <u>`DataFrame`</u>: a two-dimensional data structure that holds data like a two-dimension array or a table with rows and columns."
   ]
  }
 ],
 "metadata": {
  "language_info": {
   "name": "python"
  }
 },
 "nbformat": 4,
 "nbformat_minor": 5
}
