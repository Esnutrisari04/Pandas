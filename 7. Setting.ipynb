{
 "cells": [
  {
   "cell_type": "markdown",
   "id": "9e165803",
   "metadata": {},
   "source": [
    "## Setting"
   ]
  },
  {
   "cell_type": "markdown",
   "id": "a63b01ca",
   "metadata": {},
   "source": [
    "Setting a new column automatically aligns the data by the indexes:"
   ]
  },
  {
   "cell_type": "code",
   "execution_count": null,
   "id": "5775c90b",
   "metadata": {},
   "outputs": [],
   "source": [
    "s2 = pd.Series([1, 2, 3, 4, 5, 6], index=pd.date_range('20241201', periods=6))\n",
    "s2\n",
    "\n",
    "df[\"F\"] = s2"
   ]
  },
  {
   "cell_type": "markdown",
   "id": "09ae9ea7",
   "metadata": {},
   "source": [
    "Setting values by label:"
   ]
  },
  {
   "cell_type": "code",
   "execution_count": null,
   "id": "c08c42ac",
   "metadata": {},
   "outputs": [],
   "source": [
    "df.at[dates[0], \"A\"] = 0"
   ]
  },
  {
   "cell_type": "markdown",
   "id": "b13aa2f3",
   "metadata": {},
   "source": [
    "Setting values by position:"
   ]
  },
  {
   "cell_type": "code",
   "execution_count": null,
   "id": "c8426197",
   "metadata": {},
   "outputs": [],
   "source": [
    "df.iat[0, 1] = 0"
   ]
  },
  {
   "cell_type": "markdown",
   "id": "d8ddc830",
   "metadata": {},
   "source": [
    "Setting by assigning with a Numpy array:"
   ]
  },
  {
   "cell_type": "code",
   "execution_count": null,
   "id": "653eb3cf",
   "metadata": {},
   "outputs": [],
   "source": [
    "df.loc[:, \"D\"] = np.array([5] * len(df))"
   ]
  },
  {
   "cell_type": "markdown",
   "id": "e16fa880",
   "metadata": {},
   "source": [
    "The result of the prior setting operations:"
   ]
  },
  {
   "cell_type": "code",
   "execution_count": null,
   "id": "cc0f3a2a",
   "metadata": {},
   "outputs": [],
   "source": [
    "df"
   ]
  },
  {
   "cell_type": "markdown",
   "id": "415a5bc0",
   "metadata": {},
   "source": [
    "A <u>`where`</u> operation with setting:"
   ]
  },
  {
   "cell_type": "code",
   "execution_count": null,
   "id": "7bb5e4fb",
   "metadata": {},
   "outputs": [],
   "source": [
    "df2 = s2.copy()\n",
    "df2[df2 > 0] = -df2\n",
    "df2"
   ]
  }
 ],
 "metadata": {
  "language_info": {
   "name": "python"
  }
 },
 "nbformat": 4,
 "nbformat_minor": 5
}
