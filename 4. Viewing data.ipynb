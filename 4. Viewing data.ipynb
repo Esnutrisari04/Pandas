{
 "cells": [
  {
   "cell_type": "markdown",
   "id": "2ef53d49",
   "metadata": {},
   "source": [
    "## Viewing data"
   ]
  },
  {
   "cell_type": "markdown",
   "id": "5d84509e",
   "metadata": {},
   "source": [
    "See the <u> Essentially basics functionality section</u>.\n",
    "\n",
    "Use <u>`DataFrame.head()`</u> and <u>`DataFrame.tail`</u> to view the top and bottom rows of the frame respectively:"
   ]
  },
  {
   "cell_type": "code",
   "execution_count": null,
   "id": "00c266bd",
   "metadata": {},
   "outputs": [],
   "source": [
    "df.head()"
   ]
  },
  {
   "cell_type": "code",
   "execution_count": null,
   "id": "52b5757e",
   "metadata": {},
   "outputs": [],
   "source": [
    "df.tail(3)"
   ]
  },
  {
   "cell_type": "markdown",
   "id": "c8afe639",
   "metadata": {},
   "source": [
    "Display the <u>`DataFrame.index`</u> or <u>`DataFrame.columns`</u>:"
   ]
  },
  {
   "cell_type": "code",
   "execution_count": null,
   "id": "320418d3",
   "metadata": {},
   "outputs": [],
   "source": [
    "df.index"
   ]
  },
  {
   "cell_type": "code",
   "execution_count": null,
   "id": "4b7e0244",
   "metadata": {},
   "outputs": [],
   "source": [
    "df.columns"
   ]
  },
  {
   "cell_type": "code",
   "execution_count": null,
   "id": "f7c90ed5",
   "metadata": {},
   "outputs": [],
   "source": [
    "df.to_numpy()"
   ]
  },
  {
   "cell_type": "markdown",
   "id": "cb48d131",
   "metadata": {},
   "source": [
    "<table>\n",
    "    <tbody>\n",
    "        <tr>\n",
    "            <td>\n",
    "                Note\n",
    "            </td>\n",
    "        </tr>\n",
    "        <tr>\n",
    "            <td>\n",
    "                <b>NumPy arrays have one dtype for the entire array while pandas DataFrames have one dtype per column</b>. When you call <u>`DataFrame.to_numpy()`</u>, pandas will find the NumPy dtype that can hold all of the dtypes in the DataFrame. If the common data type is object, <u>`DataFrame.to_numpy()`</u> will require copying data.\n",
    "            </td>\n",
    "        </tr>\n",
    "    </tbody>\n",
    "</table>"
   ]
  },
  {
   "cell_type": "code",
   "execution_count": null,
   "id": "8e154811",
   "metadata": {},
   "outputs": [],
   "source": [
    "df2.dtypes"
   ]
  },
  {
   "cell_type": "code",
   "execution_count": null,
   "id": "47dd8510",
   "metadata": {},
   "outputs": [],
   "source": [
    "df2.to_numpy()"
   ]
  },
  {
   "cell_type": "markdown",
   "id": "7f3eda8a",
   "metadata": {},
   "source": [
    "<u>`describe()`</u> shows a quick statistic summary of your data:"
   ]
  },
  {
   "cell_type": "code",
   "execution_count": null,
   "id": "1c2c3355",
   "metadata": {},
   "outputs": [],
   "source": [
    "df.describe()"
   ]
  },
  {
   "cell_type": "markdown",
   "id": "5531975f",
   "metadata": {},
   "source": [
    "Transposing your data"
   ]
  },
  {
   "cell_type": "code",
   "execution_count": null,
   "id": "fa2c840f",
   "metadata": {},
   "outputs": [],
   "source": [
    "df.T"
   ]
  },
  {
   "cell_type": "markdown",
   "id": "63780c1f",
   "metadata": {},
   "source": [
    "<u>`DataFrame.sort_index()`</u> sorts by an axis:"
   ]
  },
  {
   "cell_type": "code",
   "execution_count": null,
   "id": "75253ae4",
   "metadata": {},
   "outputs": [],
   "source": [
    "df.sort_index(axis=1, ascending=False)"
   ]
  },
  {
   "cell_type": "markdown",
   "id": "249f8f50",
   "metadata": {},
   "source": [
    "<u>`DataFrame.sort_values()`</u> sorts by values:"
   ]
  },
  {
   "cell_type": "code",
   "execution_count": null,
   "id": "99654070",
   "metadata": {},
   "outputs": [],
   "source": [
    "df.sort_values(by=\"B\")\n",
    "# add ascending=false if want to high to low number sorting"
   ]
  }
 ],
 "metadata": {
  "language_info": {
   "name": "python"
  }
 },
 "nbformat": 4,
 "nbformat_minor": 5
}
