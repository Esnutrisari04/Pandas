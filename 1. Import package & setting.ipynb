{
 "cells": [
  {
   "cell_type": "markdown",
   "id": "b56215d1",
   "metadata": {},
   "source": [
    "## Import package & setting"
   ]
  },
  {
   "cell_type": "code",
   "execution_count": 1,
   "id": "7e56f409",
   "metadata": {},
   "outputs": [],
   "source": [
    "# Package section\n",
    "import pandas as pd\n",
    "import numpy as np\n",
    "\n",
    "# settings section\n",
    "pd.set_option(\"display.precision\",6)        # decimal number used"
   ]
  }
 ],
 "metadata": {
  "kernelspec": {
   "display_name": "Python 3",
   "language": "python",
   "name": "python3"
  },
  "language_info": {
   "codemirror_mode": {
    "name": "ipython",
    "version": 3
   },
   "file_extension": ".py",
   "mimetype": "text/x-python",
   "name": "python",
   "nbconvert_exporter": "python",
   "pygments_lexer": "ipython3",
   "version": "3.11.3"
  }
 },
 "nbformat": 4,
 "nbformat_minor": 5
}
