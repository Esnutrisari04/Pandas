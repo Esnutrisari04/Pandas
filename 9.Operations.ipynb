{
 "cells": [
  {
   "cell_type": "markdown",
   "id": "b2e0902c",
   "metadata": {},
   "source": [
    "## Operations"
   ]
  },
  {
   "cell_type": "markdown",
   "id": "257e6d17",
   "metadata": {},
   "source": [
    "See the basic section on Binary Ops"
   ]
  },
  {
   "cell_type": "markdown",
   "id": "fdf35661",
   "metadata": {},
   "source": [
    "### Stats"
   ]
  },
  {
   "cell_type": "markdown",
   "id": "dcfddfae",
   "metadata": {},
   "source": [
    "Operation is general _exclude_ missing data.\n",
    "\n",
    "Calculate the mean value for each column:"
   ]
  },
  {
   "cell_type": "code",
   "execution_count": null,
   "id": "ce984507",
   "metadata": {},
   "outputs": [],
   "source": [
    "df.mean()"
   ]
  },
  {
   "cell_type": "markdown",
   "id": "a013a203",
   "metadata": {},
   "source": [
    "Calculate the mean value for each row:"
   ]
  },
  {
   "cell_type": "code",
   "execution_count": null,
   "id": "2e782a49",
   "metadata": {},
   "outputs": [
    {
     "data": {
      "text/plain": [
       "2024-11-01    1.003253\n",
       "2024-11-02    1.130657\n",
       "2024-11-03    1.232302\n",
       "2024-11-04    1.260088\n",
       "2024-11-05    0.965156\n",
       "2024-11-06    0.624362\n",
       "2024-11-07    1.594754\n",
       "2024-11-08    0.486105\n",
       "2024-11-09    1.262922\n",
       "2024-11-10    0.956565\n",
       "2024-11-11    1.786683\n",
       "2024-11-12    0.789613\n",
       "2024-11-13    1.590397\n",
       "2024-11-14    1.470423\n",
       "2024-11-15    1.534808\n",
       "2024-11-16    1.900729\n",
       "2024-11-17    0.494140\n",
       "2024-11-18    1.064574\n",
       "2024-11-19    1.132367\n",
       "2024-11-20    1.342546\n",
       "2024-11-21    0.537636\n",
       "2024-11-22    1.393694\n",
       "2024-11-23    0.557262\n",
       "2024-11-24    0.669198\n",
       "2024-11-25    1.410763\n",
       "2024-11-26    1.054245\n",
       "2024-11-27    1.081810\n",
       "2024-11-28    1.165748\n",
       "2024-11-29    0.664249\n",
       "Freq: D, dtype: float64"
      ]
     },
     "metadata": {},
     "output_type": "display_data"
    }
   ],
   "source": [
    "df.mean(axis=1)"
   ]
  },
  {
   "cell_type": "markdown",
   "id": "839eff56",
   "metadata": {},
   "source": [
    "Operating with another <u>`Series`</u> or <u>`DataFrame`</u> with a different index or column will align the result with the union of the index or column labels. In addition, pandas automatically broadcasts along the specified dimension and will fill unaligned labels with <u>`np.nan`</u>"
   ]
  },
  {
   "cell_type": "code",
   "execution_count": null,
   "id": "d9b15e58",
   "metadata": {},
   "outputs": [],
   "source": [
    "df.sub(s, axis=\"index\")"
   ]
  },
  {
   "cell_type": "markdown",
   "id": "c16280b9",
   "metadata": {},
   "source": [
    "### User defined functions"
   ]
  },
  {
   "cell_type": "markdown",
   "id": "93c29ac0",
   "metadata": {},
   "source": [
    "<u>`DataFrame.agg()`</u> and <u>`DataFrame.transform`</u> applies a user defined function that reduces or broadcasts its result respectively."
   ]
  },
  {
   "cell_type": "code",
   "execution_count": null,
   "id": "1d6afd61",
   "metadata": {},
   "outputs": [],
   "source": [
    "df.agg(lambda x: np.mean(x) * 5.6)"
   ]
  },
  {
   "cell_type": "code",
   "execution_count": null,
   "id": "1177ad21",
   "metadata": {},
   "outputs": [],
   "source": [
    "df.transform(lambda x: x * 101.2)"
   ]
  },
  {
   "cell_type": "markdown",
   "id": "92b3cbdb",
   "metadata": {},
   "source": [
    "### Value Counts"
   ]
  },
  {
   "cell_type": "markdown",
   "id": "fb493dd2",
   "metadata": {},
   "source": [
    "See more at <u>Histogramming and Discretization</u>"
   ]
  },
  {
   "cell_type": "code",
   "execution_count": null,
   "id": "cc4d50e4",
   "metadata": {},
   "outputs": [],
   "source": [
    "pd.Series(np.random.randint(0,7, size=29))"
   ]
  },
  {
   "cell_type": "code",
   "execution_count": null,
   "id": "e7211e1f",
   "metadata": {},
   "outputs": [],
   "source": [
    "s.value_counts()"
   ]
  },
  {
   "cell_type": "markdown",
   "id": "15e0c061",
   "metadata": {},
   "source": [
    "### String Methods"
   ]
  },
  {
   "cell_type": "markdown",
   "id": "85378fbb",
   "metadata": {},
   "source": [
    "<u>`Series`</u> is equipped with a set of string processing methods in the <u>`str`</u> attribute that make in easy to operate on each element of the array, as in the code snippet below. See more at <u>Vectorized String Methods.</u>"
   ]
  },
  {
   "cell_type": "code",
   "execution_count": null,
   "id": "192a962f",
   "metadata": {},
   "outputs": [],
   "source": [
    "s = pd.Series([\"A\", \"B\", \"C\", \"Aaba\", \"Baca\", np.nan, \"CABA\", \"dog\", \"cat\"])\n",
    "\n",
    "s.str.lower()"
   ]
  },
  {
   "cell_type": "markdown",
   "id": "c5a9692a",
   "metadata": {},
   "source": [
    "## Merge"
   ]
  },
  {
   "cell_type": "markdown",
   "id": "dfdf71c5",
   "metadata": {},
   "source": [
    "### Concat"
   ]
  },
  {
   "cell_type": "markdown",
   "id": "be0650d3",
   "metadata": {},
   "source": [
    "pandas provides various facilities for easy combining together <u>`Series`</u> and <u>`DataFrame`</u> objects with various kinds of set logic for the indexes and relational algebra functionality in the case of join / merge-type operations.\n",
    "\n",
    "See the <u>Merging section</u>\n",
    "\n",
    "Concatenating pandas objects together row-wise with<u>`concat()`</u>:"
   ]
  },
  {
   "cell_type": "code",
   "execution_count": null,
   "id": "b6456598",
   "metadata": {},
   "outputs": [],
   "source": [
    "df = pd.DataFrame(np.random.randn(10, 4))\n",
    "\n",
    "df"
   ]
  },
  {
   "cell_type": "code",
   "execution_count": null,
   "id": "20336d6c",
   "metadata": {},
   "outputs": [],
   "source": [
    "# Break it into pieces\n",
    "piece = [df[:3], df[3:7], df[7:]]"
   ]
  },
  {
   "cell_type": "code",
   "execution_count": null,
   "id": "27cf3cef",
   "metadata": {},
   "outputs": [],
   "source": [
    "pd.concat(piece)"
   ]
  },
  {
   "cell_type": "markdown",
   "id": "d3843f87",
   "metadata": {},
   "source": [
    "<table>\n",
    "    <th>\n",
    "        <tb>\n",
    "            Note\n",
    "            <tr>\n",
    "                <td>\n",
    "                Adding a column to a <code><u>DataFrame</u></code> is relatively fast. However, adding a row requires a copy, and may be expensive. We recommend passing a pre-built list of records to the <code><u>DataFrame</u></code> constructor instead of building a <code><u>DataFrame</u></code> by iteratively appending records to it.\n",
    "                </td>\n",
    "            </tr>\n",
    "        </tb>\n",
    "    </th>\n",
    "</table>"
   ]
  },
  {
   "cell_type": "markdown",
   "id": "3a082a26",
   "metadata": {},
   "source": [
    "### Join"
   ]
  },
  {
   "cell_type": "markdown",
   "id": "0bd99dbb",
   "metadata": {},
   "source": [
    "<u>`merge()`</u> enables SQL style join types along specific columns. See the <u>Database style joining</u> section."
   ]
  },
  {
   "cell_type": "code",
   "execution_count": null,
   "id": "582eeaba",
   "metadata": {},
   "outputs": [],
   "source": [
    "left = pd.DataFrame({\"key\": [\"foo\", \"foo\"], \"lval\": [1, 2]})\n",
    "right = pd.DataFrame({\"key\": [\"foo\", \"foo\"], \"rval\": [4, 5]})"
   ]
  },
  {
   "cell_type": "code",
   "execution_count": null,
   "id": "3369d425",
   "metadata": {},
   "outputs": [],
   "source": [
    "left"
   ]
  },
  {
   "cell_type": "code",
   "execution_count": null,
   "id": "5f70a124",
   "metadata": {},
   "outputs": [],
   "source": [
    "right"
   ]
  },
  {
   "cell_type": "code",
   "execution_count": null,
   "id": "6ceb7ec3",
   "metadata": {},
   "outputs": [],
   "source": [
    "pd.merge(left, right, on=\"key\")"
   ]
  },
  {
   "cell_type": "markdown",
   "id": "615bab04",
   "metadata": {},
   "source": [
    "<u>`merge()`</u> on unique keys:"
   ]
  },
  {
   "cell_type": "code",
   "execution_count": null,
   "id": "6cd2f442",
   "metadata": {},
   "outputs": [],
   "source": [
    "left = pd.DataFrame({\"key\": [ \"foo\", \"bar\"], \"lval\": [1, 2]})\n",
    "right = pd.DataFrame({\"key\": [\"foo\", \"bar\"], \"rval\": [4, 5]})"
   ]
  },
  {
   "cell_type": "code",
   "execution_count": null,
   "id": "7b0d302b",
   "metadata": {},
   "outputs": [],
   "source": [
    "left"
   ]
  },
  {
   "cell_type": "code",
   "execution_count": null,
   "id": "55909c2c",
   "metadata": {},
   "outputs": [],
   "source": [
    "right"
   ]
  },
  {
   "cell_type": "code",
   "execution_count": null,
   "id": "3c9cf2e0",
   "metadata": {},
   "outputs": [],
   "source": [
    "pd.merge(left, right, on=\"key\")"
   ]
  }
 ],
 "metadata": {
  "language_info": {
   "name": "python"
  }
 },
 "nbformat": 4,
 "nbformat_minor": 5
}
