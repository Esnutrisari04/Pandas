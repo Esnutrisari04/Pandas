{
 "cells": [
  {
   "cell_type": "markdown",
   "id": "b52c99da",
   "metadata": {},
   "source": [
    "## Object Creation"
   ]
  },
  {
   "cell_type": "markdown",
   "id": "4bdca891",
   "metadata": {},
   "source": [
    "See the <u>Intro to data structures section</u>.\n",
    "\n",
    "Creating a <u>`Series`</u> by passing a list of values, letting pandas create a default <u>`RangeIndex`</u>."
   ]
  },
  {
   "cell_type": "code",
   "execution_count": null,
   "id": "9559d526",
   "metadata": {},
   "outputs": [],
   "source": [
    "s = pd.Series([1, 3, 5, np.nan, 9, 11])\n",
    "s"
   ]
  },
  {
   "cell_type": "markdown",
   "id": "cd519d99",
   "metadata": {},
   "source": [
    "Creating a <u>`DataFrame`</u> by passing a Numpy array with a datetime index using <u>`date_range()`</u> and labeled columns:\n"
   ]
  },
  {
   "cell_type": "code",
   "execution_count": null,
   "id": "93a30f27",
   "metadata": {},
   "outputs": [],
   "source": [
    "dates = pd.date_range(start=\"20241101\", end=\"20241129\")       # using start then end variable\n",
    "# dates = pd.date_range(\"20131101\", periods=29)                   # using period variable for amount day(s)\n",
    "dates"
   ]
  },
  {
   "cell_type": "code",
   "execution_count": null,
   "id": "987523e7",
   "metadata": {},
   "outputs": [],
   "source": [
    "df = pd.DataFrame(np.random.randn(29, 4), index=dates, columns=list(\"ABCD\")) \n",
    "df"
   ]
  },
  {
   "cell_type": "markdown",
   "id": "ad9e7220",
   "metadata": {},
   "source": [
    "Creating a <u>`DataFrame`</u> by passing a dictionary of objects where the keys are the column labels and the values are the column values."
   ]
  },
  {
   "cell_type": "code",
   "execution_count": null,
   "id": "db76b652",
   "metadata": {},
   "outputs": [],
   "source": [
    "df2 = pd.DataFrame(\n",
    "    {\n",
    "        \"A\": 1.0,\n",
    "        \"B\": pd.Timestamp(\"20241129\"),\n",
    "        \"C\": pd.Series(1, index=list(range(4)), dtype=\"float32\"),\n",
    "        \"D\": np.array([3] * 4, dtype=\"int32\"),\n",
    "        \"E\": pd.Categorical([\"test\", \"train\", \"test\", \"train\"]),\n",
    "        \"F\": \"foo\"\n",
    "    }\n",
    ")"
   ]
  },
  {
   "cell_type": "code",
   "execution_count": null,
   "id": "59b7006c",
   "metadata": {},
   "outputs": [],
   "source": [
    "df2"
   ]
  },
  {
   "cell_type": "markdown",
   "id": "40a5e594",
   "metadata": {},
   "source": [
    "The columns of the resulting <u>`DataFrame`</u> have different <u>dtypes</u>:"
   ]
  },
  {
   "cell_type": "code",
   "execution_count": null,
   "id": "ae6d0855",
   "metadata": {},
   "outputs": [],
   "source": [
    "df2.dtypes"
   ]
  },
  {
   "cell_type": "markdown",
   "id": "fe0430ed",
   "metadata": {},
   "source": [
    "if you're using IPython, tab completion for column name (as well as public attribute) is automatically enebled. Here is a subset of the attributes that will be completed:\n",
    "\n",
    "<table>\n",
    "    <tbody>\n",
    "            <tr>\n",
    "                <td>\n",
    "                    df.A\n",
    "                </td>\n",
    "                 <td>\n",
    "                    df.bool\n",
    "                </td>\n",
    "            </tr>\n",
    "            <tr>\n",
    "                <td>\n",
    "                    df.abs\n",
    "                </td>\n",
    "                 <td>\n",
    "                    df.boxplot\n",
    "                </td>\n",
    "            </tr>\n",
    "            <tr>\n",
    "                <td>\n",
    "                    df.add\n",
    "                </td>\n",
    "                 <td>\n",
    "                    df.C\n",
    "                </td>\n",
    "            </tr>\n",
    "            <tr>\n",
    "                <td>\n",
    "                    df.add_prefix\n",
    "                </td>\n",
    "                 <td>\n",
    "                    df.clip\n",
    "                </td>\n",
    "            </tr>\n",
    "            <tr>\n",
    "                <td>\n",
    "                    df.add_suffix\n",
    "                </td>\n",
    "                 <td>\n",
    "                    df.columns\n",
    "                </td>\n",
    "            </tr>\n",
    "            <tr>\n",
    "                <td>\n",
    "                    df.align\n",
    "                </td>\n",
    "                 <td>\n",
    "                    df.copy\n",
    "                </td>\n",
    "            </tr>\n",
    "            <tr>\n",
    "                <td>\n",
    "                    df.all\n",
    "                </td>\n",
    "                 <td>\n",
    "                    df.count\n",
    "                </td>\n",
    "            </tr>\n",
    "            <tr>\n",
    "                <td>\n",
    "                    df.any\n",
    "                </td>\n",
    "                 <td>\n",
    "                    df.combine\n",
    "                </td>\n",
    "            </tr>\n",
    "            <tr>\n",
    "                <td>\n",
    "                    df.append\n",
    "                </td>\n",
    "                 <td>\n",
    "                    df.D\n",
    "                </td>\n",
    "            </tr>\n",
    "            <tr>\n",
    "                <td>\n",
    "                    df.apply\n",
    "                </td>\n",
    "                 <td>\n",
    "                    df.describe\n",
    "                </td>\n",
    "            </tr>\n",
    "            <tr>\n",
    "                <td>\n",
    "                    df.applymap\n",
    "                </td>\n",
    "                 <td>\n",
    "                    df.diff\n",
    "                </td>\n",
    "            </tr>\n",
    "            <tr>\n",
    "                <td>\n",
    "                    df.B\n",
    "                </td>\n",
    "                 <td>\n",
    "                    df.duplicated\n",
    "                </td>\n",
    "            </tr>\n",
    "    </tbody>\n",
    "</table>"
   ]
  },
  {
   "cell_type": "markdown",
   "id": "4d5b84db",
   "metadata": {},
   "source": [
    "As you can see, the columns `A`, `B`, `C`, and `D` are automatically tab completed. `E` and `F` are there as well; the rest of attributes have been truncated for brievity."
   ]
  }
 ],
 "metadata": {
  "language_info": {
   "name": "python"
  }
 },
 "nbformat": 4,
 "nbformat_minor": 5
}
