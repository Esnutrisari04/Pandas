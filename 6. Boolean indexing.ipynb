{
 "cells": [
  {
   "cell_type": "markdown",
   "id": "91623d92",
   "metadata": {},
   "source": [
    "## Boolean indexing"
   ]
  },
  {
   "cell_type": "markdown",
   "id": "70a4ef39",
   "metadata": {},
   "source": [
    "Select rows where <u>`df.A`</u> is greater than <u>`0`</u>"
   ]
  },
  {
   "cell_type": "code",
   "execution_count": null,
   "id": "4290e32b",
   "metadata": {},
   "outputs": [],
   "source": [
    "df[df[\"A\"] > 0]"
   ]
  },
  {
   "cell_type": "markdown",
   "id": "28088218",
   "metadata": {},
   "source": [
    "Selecting values from a <u>`DataFrame`</u> where a boolean condition is met:"
   ]
  },
  {
   "cell_type": "code",
   "execution_count": null,
   "id": "75ed8055",
   "metadata": {},
   "outputs": [],
   "source": [
    "df[df > 0]"
   ]
  },
  {
   "cell_type": "markdown",
   "id": "5c0f367d",
   "metadata": {},
   "source": [
    "Using <u>`isin()`</u> method for filtering:"
   ]
  },
  {
   "cell_type": "code",
   "execution_count": null,
   "id": "ebd40434",
   "metadata": {},
   "outputs": [],
   "source": [
    "df2 = df.copy()\n",
    "\n",
    "df2[\"E\"] = [\"one\", \"one\", \"two\", \"three\", \"four\", \"three\", \"two\", \"one\",\"three\", \"four\", \"three\", \"two\", \"one\", \"two\", \"three\", \"four\", \"three\", \"two\", \"one\", \"two\", \"three\", \"four\", \"three\", \"two\", \"one\", \"two\", \"three\", \"four\", \"three\"]"
   ]
  },
  {
   "cell_type": "code",
   "execution_count": null,
   "id": "fee32880",
   "metadata": {},
   "outputs": [],
   "source": [
    "df2"
   ]
  },
  {
   "cell_type": "code",
   "execution_count": null,
   "id": "c20d6b89",
   "metadata": {},
   "outputs": [],
   "source": [
    "df2[df2[\"E\"].isin([\"two\", \"four\"])]"
   ]
  }
 ],
 "metadata": {
  "language_info": {
   "name": "python"
  }
 },
 "nbformat": 4,
 "nbformat_minor": 5
}
