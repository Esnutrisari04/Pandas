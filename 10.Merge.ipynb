{
 "cells": [
  {
   "cell_type": "markdown",
   "id": "09322737",
   "metadata": {},
   "source": [
    "## Merge"
   ]
  },
  {
   "cell_type": "markdown",
   "id": "cc115148",
   "metadata": {},
   "source": [
    "### Concat"
   ]
  },
  {
   "cell_type": "markdown",
   "id": "9ddcda5d",
   "metadata": {},
   "source": [
    "pandas provides various facilities for easy combining together <u>`Series`</u> and <u>`DataFrame`</u> objects with various kinds of set logic for the indexes and relational algebra functionality in the case of join / merge-type operations.\n",
    "\n",
    "See the <u>Merging section</u>\n",
    "\n",
    "Concatenating pandas objects together row-wise with<u>`concat()`</u>:"
   ]
  },
  {
   "cell_type": "code",
   "execution_count": null,
   "id": "02603524",
   "metadata": {},
   "outputs": [
    {
     "data": {
      "text/html": [
       "<div>\n",
       "<style scoped>\n",
       "    .dataframe tbody tr th:only-of-type {\n",
       "        vertical-align: middle;\n",
       "    }\n",
       "\n",
       "    .dataframe tbody tr th {\n",
       "        vertical-align: top;\n",
       "    }\n",
       "\n",
       "    .dataframe thead th {\n",
       "        text-align: right;\n",
       "    }\n",
       "</style>\n",
       "<table border=\"1\" class=\"dataframe\">\n",
       "  <thead>\n",
       "    <tr style=\"text-align: right;\">\n",
       "      <th></th>\n",
       "      <th>0</th>\n",
       "      <th>1</th>\n",
       "      <th>2</th>\n",
       "      <th>3</th>\n",
       "    </tr>\n",
       "  </thead>\n",
       "  <tbody>\n",
       "    <tr>\n",
       "      <th>0</th>\n",
       "      <td>-1.568696</td>\n",
       "      <td>-1.599193</td>\n",
       "      <td>-1.428294</td>\n",
       "      <td>-0.149970</td>\n",
       "    </tr>\n",
       "    <tr>\n",
       "      <th>1</th>\n",
       "      <td>-0.397175</td>\n",
       "      <td>0.619535</td>\n",
       "      <td>0.566172</td>\n",
       "      <td>0.772542</td>\n",
       "    </tr>\n",
       "    <tr>\n",
       "      <th>2</th>\n",
       "      <td>0.623451</td>\n",
       "      <td>-1.717004</td>\n",
       "      <td>-2.136921</td>\n",
       "      <td>-0.258811</td>\n",
       "    </tr>\n",
       "    <tr>\n",
       "      <th>3</th>\n",
       "      <td>-0.656832</td>\n",
       "      <td>0.212253</td>\n",
       "      <td>1.550249</td>\n",
       "      <td>0.142044</td>\n",
       "    </tr>\n",
       "    <tr>\n",
       "      <th>4</th>\n",
       "      <td>2.490388</td>\n",
       "      <td>0.891012</td>\n",
       "      <td>-0.103757</td>\n",
       "      <td>0.211790</td>\n",
       "    </tr>\n",
       "    <tr>\n",
       "      <th>5</th>\n",
       "      <td>-0.447245</td>\n",
       "      <td>-0.882291</td>\n",
       "      <td>1.900449</td>\n",
       "      <td>0.911033</td>\n",
       "    </tr>\n",
       "    <tr>\n",
       "      <th>6</th>\n",
       "      <td>1.760413</td>\n",
       "      <td>-0.655059</td>\n",
       "      <td>-0.299442</td>\n",
       "      <td>1.015099</td>\n",
       "    </tr>\n",
       "    <tr>\n",
       "      <th>7</th>\n",
       "      <td>-0.524331</td>\n",
       "      <td>-1.914839</td>\n",
       "      <td>1.704578</td>\n",
       "      <td>0.206799</td>\n",
       "    </tr>\n",
       "    <tr>\n",
       "      <th>8</th>\n",
       "      <td>-0.102755</td>\n",
       "      <td>0.260545</td>\n",
       "      <td>-1.408841</td>\n",
       "      <td>-1.302581</td>\n",
       "    </tr>\n",
       "    <tr>\n",
       "      <th>9</th>\n",
       "      <td>-0.462353</td>\n",
       "      <td>-0.825663</td>\n",
       "      <td>0.527674</td>\n",
       "      <td>-0.635947</td>\n",
       "    </tr>\n",
       "  </tbody>\n",
       "</table>\n",
       "</div>"
      ],
      "text/plain": [
       "          0         1         2         3\n",
       "0 -1.568696 -1.599193 -1.428294 -0.149970\n",
       "1 -0.397175  0.619535  0.566172  0.772542\n",
       "2  0.623451 -1.717004 -2.136921 -0.258811\n",
       "3 -0.656832  0.212253  1.550249  0.142044\n",
       "4  2.490388  0.891012 -0.103757  0.211790\n",
       "5 -0.447245 -0.882291  1.900449  0.911033\n",
       "6  1.760413 -0.655059 -0.299442  1.015099\n",
       "7 -0.524331 -1.914839  1.704578  0.206799\n",
       "8 -0.102755  0.260545 -1.408841 -1.302581\n",
       "9 -0.462353 -0.825663  0.527674 -0.635947"
      ]
     },
     "metadata": {},
     "output_type": "display_data"
    }
   ],
   "source": [
    "df = pd.DataFrame(np.random.randn(10, 4))\n",
    "\n",
    "df"
   ]
  },
  {
   "cell_type": "code",
   "execution_count": null,
   "id": "7145db1b",
   "metadata": {},
   "outputs": [],
   "source": [
    "# Break it into pieces\n",
    "piece = [df[:3], df[3:7], df[7:]]"
   ]
  },
  {
   "cell_type": "code",
   "execution_count": null,
   "id": "51035c0d",
   "metadata": {},
   "outputs": [
    {
     "data": {
      "text/html": [
       "<div>\n",
       "<style scoped>\n",
       "    .dataframe tbody tr th:only-of-type {\n",
       "        vertical-align: middle;\n",
       "    }\n",
       "\n",
       "    .dataframe tbody tr th {\n",
       "        vertical-align: top;\n",
       "    }\n",
       "\n",
       "    .dataframe thead th {\n",
       "        text-align: right;\n",
       "    }\n",
       "</style>\n",
       "<table border=\"1\" class=\"dataframe\">\n",
       "  <thead>\n",
       "    <tr style=\"text-align: right;\">\n",
       "      <th></th>\n",
       "      <th>0</th>\n",
       "      <th>1</th>\n",
       "      <th>2</th>\n",
       "      <th>3</th>\n",
       "    </tr>\n",
       "  </thead>\n",
       "  <tbody>\n",
       "    <tr>\n",
       "      <th>0</th>\n",
       "      <td>-1.568696</td>\n",
       "      <td>-1.599193</td>\n",
       "      <td>-1.428294</td>\n",
       "      <td>-0.149970</td>\n",
       "    </tr>\n",
       "    <tr>\n",
       "      <th>1</th>\n",
       "      <td>-0.397175</td>\n",
       "      <td>0.619535</td>\n",
       "      <td>0.566172</td>\n",
       "      <td>0.772542</td>\n",
       "    </tr>\n",
       "    <tr>\n",
       "      <th>2</th>\n",
       "      <td>0.623451</td>\n",
       "      <td>-1.717004</td>\n",
       "      <td>-2.136921</td>\n",
       "      <td>-0.258811</td>\n",
       "    </tr>\n",
       "    <tr>\n",
       "      <th>3</th>\n",
       "      <td>-0.656832</td>\n",
       "      <td>0.212253</td>\n",
       "      <td>1.550249</td>\n",
       "      <td>0.142044</td>\n",
       "    </tr>\n",
       "    <tr>\n",
       "      <th>4</th>\n",
       "      <td>2.490388</td>\n",
       "      <td>0.891012</td>\n",
       "      <td>-0.103757</td>\n",
       "      <td>0.211790</td>\n",
       "    </tr>\n",
       "    <tr>\n",
       "      <th>5</th>\n",
       "      <td>-0.447245</td>\n",
       "      <td>-0.882291</td>\n",
       "      <td>1.900449</td>\n",
       "      <td>0.911033</td>\n",
       "    </tr>\n",
       "    <tr>\n",
       "      <th>6</th>\n",
       "      <td>1.760413</td>\n",
       "      <td>-0.655059</td>\n",
       "      <td>-0.299442</td>\n",
       "      <td>1.015099</td>\n",
       "    </tr>\n",
       "    <tr>\n",
       "      <th>7</th>\n",
       "      <td>-0.524331</td>\n",
       "      <td>-1.914839</td>\n",
       "      <td>1.704578</td>\n",
       "      <td>0.206799</td>\n",
       "    </tr>\n",
       "    <tr>\n",
       "      <th>8</th>\n",
       "      <td>-0.102755</td>\n",
       "      <td>0.260545</td>\n",
       "      <td>-1.408841</td>\n",
       "      <td>-1.302581</td>\n",
       "    </tr>\n",
       "    <tr>\n",
       "      <th>9</th>\n",
       "      <td>-0.462353</td>\n",
       "      <td>-0.825663</td>\n",
       "      <td>0.527674</td>\n",
       "      <td>-0.635947</td>\n",
       "    </tr>\n",
       "  </tbody>\n",
       "</table>\n",
       "</div>"
      ],
      "text/plain": [
       "          0         1         2         3\n",
       "0 -1.568696 -1.599193 -1.428294 -0.149970\n",
       "1 -0.397175  0.619535  0.566172  0.772542\n",
       "2  0.623451 -1.717004 -2.136921 -0.258811\n",
       "3 -0.656832  0.212253  1.550249  0.142044\n",
       "4  2.490388  0.891012 -0.103757  0.211790\n",
       "5 -0.447245 -0.882291  1.900449  0.911033\n",
       "6  1.760413 -0.655059 -0.299442  1.015099\n",
       "7 -0.524331 -1.914839  1.704578  0.206799\n",
       "8 -0.102755  0.260545 -1.408841 -1.302581\n",
       "9 -0.462353 -0.825663  0.527674 -0.635947"
      ]
     },
     "metadata": {},
     "output_type": "display_data"
    }
   ],
   "source": [
    "pd.concat(piece)"
   ]
  },
  {
   "cell_type": "markdown",
   "id": "bae6dbfc",
   "metadata": {},
   "source": [
    "<table>\n",
    "    <th>\n",
    "        <tb>\n",
    "            Note\n",
    "            <tr>\n",
    "                <td>\n",
    "                Adding a column to a <code><u>DataFrame</u></code> is relatively fast. However, adding a row requires a copy, and may be expensive. We recommend passing a pre-built list of records to the <code><u>DataFrame</u></code> constructor instead of building a <code><u>DataFrame</u></code> by iteratively appending records to it.\n",
    "                </td>\n",
    "            </tr>\n",
    "        </tb>\n",
    "    </th>\n",
    "</table>"
   ]
  },
  {
   "cell_type": "markdown",
   "id": "cf06af7d",
   "metadata": {},
   "source": [
    "### Join"
   ]
  },
  {
   "cell_type": "markdown",
   "id": "0e4bb9ad",
   "metadata": {},
   "source": [
    "<u>`merge()`</u> enables SQL style join types along specific columns. See the <u>Database style joining</u> section."
   ]
  },
  {
   "cell_type": "code",
   "execution_count": null,
   "id": "a7a15358",
   "metadata": {},
   "outputs": [],
   "source": [
    "left = pd.DataFrame({\"key\": [\"foo\", \"foo\"], \"lval\": [1, 2]})\n",
    "right = pd.DataFrame({\"key\": [\"foo\", \"foo\"], \"rval\": [4, 5]})"
   ]
  },
  {
   "cell_type": "code",
   "execution_count": null,
   "id": "a518264d",
   "metadata": {},
   "outputs": [],
   "source": [
    "left"
   ]
  },
  {
   "cell_type": "code",
   "execution_count": null,
   "id": "fd5fef3d",
   "metadata": {},
   "outputs": [],
   "source": [
    "right"
   ]
  },
  {
   "cell_type": "code",
   "execution_count": null,
   "id": "8e775aa0",
   "metadata": {},
   "outputs": [],
   "source": [
    "pd.merge(left, right, on=\"key\")"
   ]
  },
  {
   "cell_type": "markdown",
   "id": "e3d6256b",
   "metadata": {},
   "source": [
    "<u>`merge()`</u> on unique keys:"
   ]
  },
  {
   "cell_type": "code",
   "execution_count": null,
   "id": "8f23acdf",
   "metadata": {},
   "outputs": [],
   "source": [
    "left = pd.DataFrame({\"key\": [ \"foo\", \"bar\"], \"lval\": [1, 2]})\n",
    "right = pd.DataFrame({\"key\": [\"foo\", \"bar\"], \"rval\": [4, 5]})"
   ]
  },
  {
   "cell_type": "code",
   "execution_count": null,
   "id": "7757753a",
   "metadata": {},
   "outputs": [],
   "source": [
    "left"
   ]
  },
  {
   "cell_type": "code",
   "execution_count": null,
   "id": "1744ff1a",
   "metadata": {},
   "outputs": [],
   "source": [
    "right"
   ]
  },
  {
   "cell_type": "code",
   "execution_count": null,
   "id": "1ef347c5",
   "metadata": {},
   "outputs": [],
   "source": [
    "pd.merge(left, right, on=\"key\")"
   ]
  }
 ],
 "metadata": {
  "language_info": {
   "name": "python"
  }
 },
 "nbformat": 4,
 "nbformat_minor": 5
}
