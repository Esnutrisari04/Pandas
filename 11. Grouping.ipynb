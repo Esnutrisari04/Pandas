{
 "cells": [
  {
   "cell_type": "markdown",
   "id": "0cdeadee",
   "metadata": {},
   "source": [
    "## Grouping"
   ]
  },
  {
   "cell_type": "markdown",
   "id": "cc12a205",
   "metadata": {},
   "source": [
    "By \"group by\" we are referring to a process involving one or more of the following steps:\n",
    "\n",
    "* __Splitting__ the data into groups based on some criteria\n",
    "* __Applying__ a function to each group independently\n",
    "* __Combining__ the results into a data structure"
   ]
  },
  {
   "cell_type": "code",
   "execution_count": null,
   "id": "a6405c0e",
   "metadata": {},
   "outputs": [],
   "source": [
    "df = pd.DataFrame(\n",
    "    {\n",
    "        \"A\": [\"foo\", \"bar\", \"foo\", \"bar\", \"foo\", \"bar\", \"foo\", \"foo\"],\n",
    "        \"B\": [\"one\", \"one\", \"two\", \"three\", \"two\", \"two\", \"one\", \"three\"],\n",
    "        \"C\": np.random.randn(8),\n",
    "        \"D\": np.random.randn(8),\n",
    "    }\n",
    ")"
   ]
  },
  {
   "cell_type": "code",
   "execution_count": null,
   "id": "edae3761",
   "metadata": {},
   "outputs": [],
   "source": [
    "df"
   ]
  },
  {
   "cell_type": "markdown",
   "id": "b0e9c807",
   "metadata": {},
   "source": [
    "Grouping by a column label, selecting column labels, and hen applying the <u>`DataFrameGroupBy.sum()`</u> function to the resulting groups:"
   ]
  },
  {
   "cell_type": "code",
   "execution_count": null,
   "id": "a8fe341a",
   "metadata": {},
   "outputs": [],
   "source": [
    "df.groupby(\"A\")[[\"C\", \"D\"]].sum()"
   ]
  },
  {
   "cell_type": "markdown",
   "id": "49797e26",
   "metadata": {},
   "source": [
    "Grouping by multiple columns label forms <u>`MultiIndex`</u>."
   ]
  },
  {
   "cell_type": "code",
   "execution_count": null,
   "id": "3146832f",
   "metadata": {},
   "outputs": [],
   "source": [
    "df.groupby([\"A\", \"B\"]).sum()"
   ]
  }
 ],
 "metadata": {
  "language_info": {
   "name": "python"
  }
 },
 "nbformat": 4,
 "nbformat_minor": 5
}
