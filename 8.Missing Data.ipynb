{
 "cells": [
  {
   "cell_type": "markdown",
   "id": "c333e9f8",
   "metadata": {},
   "source": [
    "## Missing Data"
   ]
  },
  {
   "cell_type": "markdown",
   "id": "a673c762",
   "metadata": {},
   "source": [
    "For NumPy data types, <u>`np.nan`</u> represents missing data. It is by default not included in computations. See the <u>Missing Data selection</u>."
   ]
  },
  {
   "cell_type": "markdown",
   "id": "bc86e58a",
   "metadata": {},
   "source": [
    "Reindexing allows you to change/add/delete the index on a specified axis. This returns a copy of the data:"
   ]
  },
  {
   "cell_type": "code",
   "execution_count": null,
   "id": "8922f022",
   "metadata": {},
   "outputs": [],
   "source": [
    "df2 = df.reindex(index=dates[0:4], columns=list(df.columns) + [\"E\"])"
   ]
  },
  {
   "cell_type": "code",
   "execution_count": null,
   "id": "05eef8eb",
   "metadata": {},
   "outputs": [],
   "source": [
    "df2.loc[dates[0] : dates[1], \"E\"] = 1\n",
    "df2.loc[dates[0] : dates[1], \"F\"] = 1"
   ]
  },
  {
   "cell_type": "code",
   "execution_count": null,
   "id": "555bf97e",
   "metadata": {},
   "outputs": [],
   "source": [
    "df2"
   ]
  },
  {
   "cell_type": "markdown",
   "id": "12682fef",
   "metadata": {},
   "source": [
    "<u>`DataFrame.dropna()`</u> drops any rows that hava missing data:"
   ]
  },
  {
   "cell_type": "code",
   "execution_count": null,
   "id": "998e2cbd",
   "metadata": {},
   "outputs": [],
   "source": [
    "df2.fillna(value=5)"
   ]
  },
  {
   "cell_type": "markdown",
   "id": "339ef78f",
   "metadata": {},
   "source": [
    "<u>`isna()`</u> gets the boolean mask where values are <u>`nan`</u>"
   ]
  },
  {
   "cell_type": "code",
   "execution_count": null,
   "id": "2dc84175",
   "metadata": {},
   "outputs": [],
   "source": [
    "pd.isna(df2)"
   ]
  }
 ],
 "metadata": {
  "language_info": {
   "name": "python"
  }
 },
 "nbformat": 4,
 "nbformat_minor": 5
}
